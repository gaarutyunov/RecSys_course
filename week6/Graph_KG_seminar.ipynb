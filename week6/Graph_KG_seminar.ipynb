{
 "cells": [
  {
   "cell_type": "markdown",
   "id": "f8124a5a",
   "metadata": {},
   "source": [
    "# <center> Graph-based подходы в RecSys </center> "
   ]
  },
  {
   "cell_type": "markdown",
   "id": "3ed08df8",
   "metadata": {},
   "source": [
    "### Graphs\n",
    "\n",
    "<img src='../images/data.png' width=900>\n",
    "<img src='../images/pipeline.png' width=700>"
   ]
  },
  {
   "cell_type": "markdown",
   "id": "041735ba",
   "metadata": {},
   "source": [
    "**Цель** - использование топологической структуры графа на основе связей и признаков. Давайте учить эмбеддинги вершин графа и аггрегировать информацию по соседям вершины их локальной окрестности.\n",
    "\n",
    "Кстати, что такое **Isolated information island problem** на графике ?\n",
    "\n",
    "Краткий пошаговый алгоритм: \n",
    "\n",
    "1. Моделируем локальную структурную информацию по вершине и определяем окрестность вершины\n",
    "2. Применяем функцию аггрегации информации по соседям (AGGREGATE шаг)\n",
    "3. Обновление текущий вектор представления вершины (UPDATE шаг)"
   ]
  },
  {
   "cell_type": "markdown",
   "id": "07357d72",
   "metadata": {},
   "source": [
    "Подвиды графовых подходов: \n",
    "1. Graph-based (например, CF без признаков, user-item)\n",
    "2. Social graphs (user-user) \n",
    "3. Knowledge-graph (например, CF с признаками, entities-relations)"
   ]
  },
  {
   "cell_type": "markdown",
   "id": "257163cb",
   "metadata": {},
   "source": [
    "Основные FAQ вопросы: \n",
    "\n",
    "**- Как нам представить граф?**\n",
    "\n",
    "**- Что такое операция свертки на графе?**\n",
    "\n",
    "Рассмотрим на примере GCN https://arxiv.org/pdf/1609.02907.pdf. \n",
    "\n",
    "Сами GCN можно разделить на 2 основных алгоритма: \n",
    "- **Spatial Graph Convolutional Networks**\n",
    "- **Spectral Graph Convolutional Networks**\n",
    "\n",
    "Обычный Neural Networks Forward Propagation:\n",
    "\n",
    "<img src='https://miro.medium.com/max/984/1*9LlQmajRQeCQfLgas5vTRg.png' width=250>\n",
    "\n",
    "\n",
    "В Fast Approximate Spectral Graph Convolutional Networks:\n",
    "\n",
    "Рассматриваем как аппроксимацию (первого порядка) свертки спектрального графа, в которой информация распространяется по соседним узлам:\n",
    "\n",
    "<img src='https://miro.medium.com/max/960/1*2cT063K_PIvJVRqFn8c5gg.png' width=250>"
   ]
  },
  {
   "cell_type": "code",
   "execution_count": 1,
   "id": "b18251a6",
   "metadata": {},
   "outputs": [
    {
     "name": "stdout",
     "output_type": "stream",
     "text": [
      "\n",
      "Graph Nodes:  [(0, {'name': 0}), (1, {'name': 1}), (2, {'name': 2}), (3, {'name': 3}), (4, {'name': 4}), (5, {'name': 5})]\n"
     ]
    },
    {
     "data": {
      "image/png": "[encoded data removed]",
      "text/plain": [
       "<Figure size 432x288 with 1 Axes>"
      ]
     },
     "metadata": {},
     "output_type": "display_data"
    }
   ],
   "source": [
    "import networkx as nx\n",
    "import numpy as np\n",
    "import matplotlib.pyplot as plt\n",
    "from scipy.linalg import fractional_matrix_power\n",
    "\n",
    "import warnings\n",
    "warnings.filterwarnings(\"ignore\", category=UserWarning)\n",
    "\n",
    "\n",
    "G = nx.Graph(name='G')\n",
    "\n",
    "for i in range(6):\n",
    "    G.add_node(i, name=i)\n",
    "\n",
    "edges = [(0,1),(0,2),(1,2),(0,3),(3,4),(3,5),(4,5)]\n",
    "G.add_edges_from(edges)\n",
    "\n",
    "print('\\nGraph Nodes: ', G.nodes.data())\n",
    "\n",
    "nx.draw(G, with_labels=True, font_weight='bold')\n",
    "plt.show()"
   ]
  },
  {
   "cell_type": "markdown",
   "id": "72d21433",
   "metadata": {},
   "source": [
    "Получим Adjacency Matrix (A) и матрицу фичей вершин (X):"
   ]
  },
  {
   "cell_type": "code",
   "execution_count": 2,
   "id": "1343abfd",
   "metadata": {},
   "outputs": [
    {
     "name": "stdout",
     "output_type": "stream",
     "text": [
      "Shape of A:  (6, 6)\n",
      "\n",
      "Shape of X:  (6, 1)\n",
      "\n",
      "Adjacency Matrix (A):\n",
      " [[0. 1. 1. 1. 0. 0.]\n",
      " [1. 0. 1. 0. 0. 0.]\n",
      " [1. 1. 0. 0. 0. 0.]\n",
      " [1. 0. 0. 0. 1. 1.]\n",
      " [0. 0. 0. 1. 0. 1.]\n",
      " [0. 0. 0. 1. 1. 0.]]\n",
      "\n",
      "Node Features Matrix (X):\n",
      " [[0]\n",
      " [1]\n",
      " [2]\n",
      " [3]\n",
      " [4]\n",
      " [5]]\n"
     ]
    },
    {
     "name": "stderr",
     "output_type": "stream",
     "text": [
      "/tmp/ipykernel_16477/848339708.py:1: FutureWarning: attr_matrix will return an numpy.ndarray instead of a numpy.matrix in NetworkX 3.0.\n",
      "  A = np.array(nx.attr_matrix(G, node_attr='name')[0])\n",
      "/tmp/ipykernel_16477/848339708.py:2: FutureWarning: attr_matrix will return an numpy.ndarray instead of a numpy.matrix in NetworkX 3.0.\n",
      "  X = np.array(nx.attr_matrix(G, node_attr='name')[1])\n"
     ]
    }
   ],
   "source": [
    "A = np.array(nx.attr_matrix(G, node_attr='name')[0])\n",
    "X = np.array(nx.attr_matrix(G, node_attr='name')[1])\n",
    "X = np.expand_dims(X,axis=1)\n",
    "\n",
    "print('Shape of A: ', A.shape)\n",
    "print('\\nShape of X: ', X.shape)\n",
    "print('\\nAdjacency Matrix (A):\\n', A)\n",
    "print('\\nNode Features Matrix (X):\\n', X)"
   ]
  },
  {
   "cell_type": "code",
   "execution_count": 3,
   "id": "c82932d7",
   "metadata": {},
   "outputs": [
    {
     "name": "stdout",
     "output_type": "stream",
     "text": [
      "Dot product of A and X (AX):\n",
      " [[6.]\n",
      " [2.]\n",
      " [1.]\n",
      " [9.]\n",
      " [8.]\n",
      " [7.]]\n"
     ]
    }
   ],
   "source": [
    "AX = np.dot(A,X)\n",
    "print(\"Dot product of A and X (AX):\\n\", AX)"
   ]
  },
  {
   "cell_type": "markdown",
   "id": "d2ec53ca",
   "metadata": {},
   "source": [
    "AX представляет собой сумму признаков соседних узлов.\n",
    "\n",
    "НО! Учитываем ли мы тут признаки самой вершины?"
   ]
  },
  {
   "cell_type": "code",
   "execution_count": 4,
   "id": "d577b9ea",
   "metadata": {},
   "outputs": [
    {
     "name": "stdout",
     "output_type": "stream",
     "text": [
      "Edges of G with self-loops:\n",
      " [(0, 1), (0, 2), (0, 3), (0, 0), (1, 2), (1, 1), (2, 2), (3, 4), (3, 5), (3, 3), (4, 5), (4, 4), (5, 5)]\n",
      "Adjacency Matrix of added self-loops G (A_hat):\n",
      " [[1. 1. 1. 1. 0. 0.]\n",
      " [1. 1. 1. 0. 0. 0.]\n",
      " [1. 1. 1. 0. 0. 0.]\n",
      " [1. 0. 0. 1. 1. 1.]\n",
      " [0. 0. 0. 1. 1. 1.]\n",
      " [0. 0. 0. 1. 1. 1.]]\n",
      "AX:\n",
      " [[ 6.]\n",
      " [ 3.]\n",
      " [ 3.]\n",
      " [12.]\n",
      " [12.]\n",
      " [12.]]\n"
     ]
    },
    {
     "name": "stderr",
     "output_type": "stream",
     "text": [
      "/tmp/ipykernel_16477/3790991000.py:11: FutureWarning: attr_matrix will return an numpy.ndarray instead of a numpy.matrix in NetworkX 3.0.\n",
      "  A_hat = np.array(nx.attr_matrix(G_self_loops, node_attr='name')[0])\n"
     ]
    }
   ],
   "source": [
    "G_self_loops = G.copy()\n",
    "\n",
    "self_loops = []\n",
    "for i in range(G.number_of_nodes()):\n",
    "    self_loops.append((i,i))\n",
    "\n",
    "G_self_loops.add_edges_from(self_loops)\n",
    "\n",
    "print('Edges of G with self-loops:\\n', G_self_loops.edges)\n",
    "\n",
    "A_hat = np.array(nx.attr_matrix(G_self_loops, node_attr='name')[0])\n",
    "print('Adjacency Matrix of added self-loops G (A_hat):\\n', A_hat)\n",
    "\n",
    "AX = np.dot(A_hat, X)\n",
    "print('AX:\\n', AX)"
   ]
  },
  {
   "cell_type": "markdown",
   "id": "a898c9f8",
   "metadata": {},
   "source": [
    "Есть еще одна проблема - элементы AX ненормализованы. "
   ]
  },
  {
   "cell_type": "code",
   "execution_count": 5,
   "id": "5e674cb6",
   "metadata": {},
   "outputs": [
    {
     "name": "stdout",
     "output_type": "stream",
     "text": [
      "Degree Matrix of added self-loops G (D):  [(0, 5), (1, 4), (2, 4), (3, 5), (4, 4), (5, 4)]\n",
      "Degree Matrix of added self-loops G as numpy array (D):\n",
      " [[5 0 0 0 0 0]\n",
      " [0 4 0 0 0 0]\n",
      " [0 0 4 0 0 0]\n",
      " [0 0 0 5 0 0]\n",
      " [0 0 0 0 4 0]\n",
      " [0 0 0 0 0 4]]\n",
      "Inverse of D:\n",
      " [[0.2  0.   0.   0.   0.   0.  ]\n",
      " [0.   0.25 0.   0.   0.   0.  ]\n",
      " [0.   0.   0.25 0.   0.   0.  ]\n",
      " [0.   0.   0.   0.2  0.   0.  ]\n",
      " [0.   0.   0.   0.   0.25 0.  ]\n",
      " [0.   0.   0.   0.   0.   0.25]]\n",
      "DAX:\n",
      " [[1.2 ]\n",
      " [0.75]\n",
      " [0.75]\n",
      " [2.4 ]\n",
      " [3.  ]\n",
      " [3.  ]]\n"
     ]
    }
   ],
   "source": [
    "Deg_Mat = G_self_loops.degree()\n",
    "print('Degree Matrix of added self-loops G (D): ', Deg_Mat)\n",
    "\n",
    "D = np.diag([deg for (n,deg) in list(Deg_Mat)])\n",
    "print('Degree Matrix of added self-loops G as numpy array (D):\\n', D)\n",
    "\n",
    "D_inv = np.linalg.inv(D)\n",
    "print('Inverse of D:\\n', D_inv)\n",
    "\n",
    "DAX = np.dot(D_inv,AX)\n",
    "print('DAX:\\n', DAX)"
   ]
  },
  {
   "cell_type": "markdown",
   "id": "254f5eee",
   "metadata": {},
   "source": [
    "Посмотрим на 4-ю ноду до и после нормализации. В чем странность?"
   ]
  },
  {
   "cell_type": "code",
   "execution_count": 6,
   "id": "8afc8fc1",
   "metadata": {},
   "outputs": [
    {
     "name": "stdout",
     "output_type": "stream",
     "text": [
      "[[ 6.]\n",
      " [ 3.]\n",
      " [ 3.]\n",
      " [12.]\n",
      " [12.]\n",
      " [12.]]\n",
      "[[1.2 ]\n",
      " [0.75]\n",
      " [0.75]\n",
      " [2.4 ]\n",
      " [3.  ]\n",
      " [3.  ]]\n"
     ]
    }
   ],
   "source": [
    "print(AX)\n",
    "print(DAX)"
   ]
  },
  {
   "cell_type": "markdown",
   "id": "25b053cd",
   "metadata": {},
   "source": [
    "В пространственной свертке (**Spatial Convolution**) мы делаем операции на локальной окрестности соседей вершины и обобщаем информацию о вершине на основании аггрегаций по ним. "
   ]
  },
  {
   "cell_type": "markdown",
   "id": "af065c81",
   "metadata": {},
   "source": [
    "\n",
    "**- А что с порядком вершин? В графе он не важен.** "
   ]
  },
  {
   "cell_type": "markdown",
   "id": "4fc6e84a",
   "metadata": {},
   "source": [
    "### Простые GNN (Graph Neural Networks)\n",
    "\n",
    "Идея: просто усреднять информацию по соседям.\n",
    "\n",
    "Для каждой вершины зададим вектор, который будет состоять из $f$ признаков вершины:\n",
    "\n",
    "$$h^0_f = x_f$$\n",
    "\n",
    "Используем самый простой способ аггрегации:\n",
    "\n",
    "$$h^k_f = \\sigma ( w^k_1 \\sum_{u \\in N(f)} \\frac{h^{k-1}_u}{\\sqrt |N(u)|} + w^k_2 h^{k-1}_f)$$\n",
    "\n",
    "Итоговый вектор: \n",
    "\n",
    "$$z_f = h^k_f$$\n"
   ]
  },
  {
   "cell_type": "markdown",
   "id": "27daab66",
   "metadata": {},
   "source": [
    "Посмотрим на разные подходы:\n",
    "\n",
    "**Simple neighborhood average aggregation (in GNN)**:\n",
    "\n",
    "$$h^k_f = \\sigma ( w^k_1 \\sum_{u \\in N(f)} \\frac{h^{k-1}_u}{\\sqrt |N(u)|} + w^k_2 h^{k-1}_f)$$\n",
    "\n",
    "**GCN**:\n",
    "\n",
    "$$h^k_f = \\sigma ( w^k_1 \\sum_{u \\in N(f)} \\frac{h^{k-1}_u}{\\sqrt |N(f)| |N(u)|} + w^k_2 h^{k-1}_f)$$\n",
    "\n",
    "**GraphSAGE (generalized aggregation)**:\n",
    "\n",
    "$$h^k_f = \\sigma ([w^k_1  \\cdot AGG({h^{k-1}_u, \\forall_u \\in N(u)}, w^k_2 \\cdot  h^k_f]) $$\n",
    "\n",
    "Под AGG может быть mean, pooling, LSTM, attention и др. \n",
    "\n",
    "**GAT**:\n",
    "\n",
    "\n",
    "$$h^k_f = \\sigma  ( \\sum_{u \\in N(f)} \\alpha_{f, u} w^k h^{k-1}_u)$$\n"
   ]
  },
  {
   "cell_type": "markdown",
   "id": "bb6a73e3",
   "metadata": {},
   "source": [
    "Есть важное накладываемое требование на фукнции аггрегации!"
   ]
  },
  {
   "cell_type": "markdown",
   "id": "23ea625d",
   "metadata": {},
   "source": [
    "**- Какие возможно еще аггрегации по графу?**\n",
    "\n",
    "- GraphPooling\n",
    "- SortPool\n",
    "- SAGPool \n",
    "- DiffPool \n",
    "\n",
    "и др. \n",
    "Другой подход – считать, что множество вершин это последовательность, следовательно, их представления можно подать на вход LSTM-сети, возможно, с механизмом внимания. В подходе SortPool вершины сортируются (каким-то образом, например по последнему элементу в векторе-представлении), конкатенируются представления первых k вершин и подаются на вход в обычную нейросеть.\n",
    "\n",
    "Также есть группа подходов, в которой итерационно упрощают граф. Вообще-то пулинг в свёрточных слоях для изображений и текстов как раз упрощает граф, поэтому в GNN тоже разумно иметь такую операцию. В SAGPool (Self-Attention Graph Pooling) [15] итерационно получают оценки-рейтинги вершин, оставляют top-вершины. Процесс продолжается, пока не останется одна или до Readout-слоя (так сделано в оригинальной работе). Как следует из названия, в SAGPool используется механизм внимания.\n",
    "\n",
    "Ещё метод, использующий упрощение графа – DiffPool [16] – на каждой итерации производится кластеризация вершин графа (в терминах теории графовых сетей – «выделение сообществ»), производится агрегация вершин в кластерах, переходим к графу с вершинами, соответствующим сообществам. "
   ]
  },
  {
   "cell_type": "markdown",
   "id": "66ca7c1e",
   "metadata": {},
   "source": [
    "#### Проблема адаптации\n",
    "\n",
    "Основная проблема при использовании описываемого нейронного распространения -  чрезмерное сглаживание (over-smoothing). Как можно бороться с этим?"
   ]
  },
  {
   "cell_type": "markdown",
   "id": "a432c9df",
   "metadata": {},
   "source": [
    "Давайте посмотрим, как запустить GCN и GAT, и что сработает лучше на выбранном датасете. \n",
    "\n",
    "Кстати, что можно предсказывать, чтобы получать рекомендации? Можем свести к node/edge classification?"
   ]
  },
  {
   "cell_type": "markdown",
   "id": "8e71d15a",
   "metadata": {},
   "source": [
    "https://colab.research.google.com/drive/1XHPbm0-FFdroWzHMR6ktxm040sp9yOXA#scrollTo=oQgBdDybzivy&uniqifier=1 "
   ]
  },
  {
   "cell_type": "code",
   "execution_count": null,
   "id": "97f6ea34",
   "metadata": {},
   "outputs": [],
   "source": [
    "import torch\n",
    "torchversion = torch.__version__\n",
    "\n",
    "!pip install -q torch-scatter -f https://data.pyg.org/whl/torch-{torchversion}.html\n",
    "!pip install -q torch-sparse -f https://data.pyg.org/whl/torch-{torchversion}.html\n",
    "!pip install -q git+https://github.com/pyg-team/pytorch_geometric.git\n",
    "\n",
    "import numpy as np\n",
    "np.random.seed(0)\n",
    "\n",
    "import networkx as nx\n",
    "import matplotlib.pyplot as plt\n",
    "from collections import Counter\n",
    "from sklearn.manifold import TSNE\n",
    "from torch_geometric.datasets import Planetoid\n",
    "from torch_geometric.utils import remove_isolated_nodes, to_networkx, degree"
   ]
  },
  {
   "cell_type": "markdown",
   "id": "ba2e7f20",
   "metadata": {},
   "source": [
    "В принципе, можно пробовать решать задачу классификации, причем как по вершнинам, так и по ребрам. Даввайте обсудим в чем разница?"
   ]
  },
  {
   "cell_type": "code",
   "execution_count": null,
   "id": "722985bf",
   "metadata": {},
   "outputs": [],
   "source": [
    "dataset = Planetoid(root=\".\", name=\"CiteSeer\")\n",
    "\n",
    "data = dataset[0]\n",
    "\n",
    "print(f'# графов: {len(dataset)}')\n",
    "print(f'# вершин: {data.x.shape[0]}')\n",
    "print(f'# признаков: {dataset.num_features}')\n",
    "print(f'# классов: {dataset.num_classes}')\n",
    "\n",
    "print(f'\\nGraph:')\n",
    "print('------')\n",
    "print(f'Орграф: {data.is_directed()}')\n",
    "print(f'Есть изолированные вершины: {data.has_isolated_nodes()}')\n",
    "print(f'Есть петли: {data.has_self_loops()}')\n",
    "\n",
    "isolated = (remove_isolated_nodes(data['edge_index'])[2] == False).sum(dim=0).item()\n",
    "print(f'Число изолированных вершин = {isolated}')"
   ]
  },
  {
   "cell_type": "code",
   "execution_count": null,
   "id": "e758fd3b",
   "metadata": {},
   "outputs": [],
   "source": [
    "G = to_networkx(data, to_undirected=True)\n",
    "plt.figure(figsize=(16,16))\n",
    "plt.axis('off')\n",
    "nx.draw_networkx(G,\n",
    "                pos=nx.spring_layout(G, seed=0),\n",
    "                with_labels=False,\n",
    "                node_size=40,\n",
    "                node_color=data.y,\n",
    "                width=2,\n",
    "                edge_color=\"grey\"\n",
    "                )\n",
    "plt.show()"
   ]
  },
  {
   "cell_type": "code",
   "execution_count": null,
   "id": "44ae36ef",
   "metadata": {},
   "outputs": [],
   "source": [
    "degrees = degree(data.edge_index[0]).numpy()\n",
    "numbers = Counter(degrees)\n",
    "\n",
    "fig, ax = plt.subplots(figsize=(18, 7))\n",
    "ax.set_xlabel('Node degree')\n",
    "ax.set_ylabel('Number of nodes')\n",
    "plt.bar(numbers.keys(),\n",
    "        numbers.values(),\n",
    "        color='#0A047A');"
   ]
  },
  {
   "cell_type": "code",
   "execution_count": null,
   "id": "a08242e1",
   "metadata": {},
   "outputs": [],
   "source": [
    "import torch.nn.functional as F\n",
    "from torch.nn import Linear, Dropout\n",
    "from torch_geometric.nn import GCNConv, GATv2Conv\n",
    "\n",
    "\n",
    "class GCN(torch.nn.Module):\n",
    "    \"\"\"Graph Convolutional Network\"\"\"\n",
    "    def __init__(self, dim_in, dim_h, dim_out):\n",
    "    super().__init__()\n",
    "    self.gcn1 = GCNConv(dim_in, dim_h)\n",
    "    self.gcn2 = GCNConv(dim_h, dim_out)\n",
    "    self.optimizer = torch.optim.Adam(self.parameters(),\n",
    "                                      lr=0.01,\n",
    "                                      weight_decay=5e-4)\n",
    "\n",
    "    def forward(self, x, edge_index):\n",
    "    h = F.dropout(x, p=0.5, training=self.training)\n",
    "    h = self.gcn1(h, edge_index)\n",
    "    h = torch.relu(h)\n",
    "    h = F.dropout(h, p=0.5, training=self.training)\n",
    "    h = self.gcn2(h, edge_index)\n",
    "    return h, F.log_softmax(h, dim=1)\n",
    "\n",
    "\n",
    "class GAT(torch.nn.Module):\n",
    "    \"\"\"Graph Attention Network\"\"\"\n",
    "    def __init__(self, dim_in, dim_h, dim_out, heads=8):\n",
    "    super().__init__()\n",
    "    self.gat1 = GATv2Conv(dim_in, dim_h, heads=heads)\n",
    "    self.gat2 = GATv2Conv(dim_h*heads, dim_out, heads=1)\n",
    "    self.optimizer = torch.optim.Adam(self.parameters(),\n",
    "                                      lr=0.005,\n",
    "                                      weight_decay=5e-4)\n",
    "\n",
    "    def forward(self, x, edge_index):\n",
    "    h = F.dropout(x, p=0.6, training=self.training)\n",
    "    h = self.gat1(x, edge_index)\n",
    "    h = F.elu(h)\n",
    "    h = F.dropout(h, p=0.6, training=self.training)\n",
    "    h = self.gat2(h, edge_index)\n",
    "    return h, F.log_softmax(h, dim=1)\n",
    "\n",
    "    def accuracy(pred_y, y):\n",
    "    \"\"\"Calculate accuracy.\"\"\"\n",
    "    return ((pred_y == y).sum() / len(y)).item()\n",
    "\n",
    "    def train(model, data):\n",
    "    \"\"\"Train a GNN model and return the trained model.\"\"\"\n",
    "    criterion = torch.nn.CrossEntropyLoss()\n",
    "    optimizer = model.optimizer\n",
    "    epochs = 200\n",
    "\n",
    "    model.train()\n",
    "    for epoch in range(epochs+1):\n",
    "        optimizer.zero_grad()\n",
    "        _, out = model(data.x, data.edge_index)\n",
    "        loss = criterion(out[data.train_mask], data.y[data.train_mask])\n",
    "        acc = accuracy(out[data.train_mask].argmax(dim=1), data.y[data.train_mask])\n",
    "        loss.backward()\n",
    "        optimizer.step()\n",
    "\n",
    "        val_loss = criterion(out[data.val_mask], data.y[data.val_mask])\n",
    "        val_acc = accuracy(out[data.val_mask].argmax(dim=1), data.y[data.val_mask])\n",
    "\n",
    "        if(epoch % 10 == 0):\n",
    "            print(f'Epoch {epoch:>3} | Train Loss: {loss:.3f} | Train Acc: '\n",
    "                  f'{acc*100:>6.2f}% | Val Loss: {val_loss:.2f} | '\n",
    "                  f'Val Acc: {val_acc*100:.2f}%')\n",
    "\n",
    "    return model\n",
    "\n",
    "    def test(model, data):\n",
    "    \"\"\"Evaluate the model on test set and print the accuracy score.\"\"\"\n",
    "    model.eval()\n",
    "    _, out = model(data.x, data.edge_index)\n",
    "    acc = accuracy(out.argmax(dim=1)[data.test_mask], data.y[data.test_mask])\n",
    "    return acc"
   ]
  },
  {
   "cell_type": "code",
   "execution_count": null,
   "id": "39444ab0",
   "metadata": {},
   "outputs": [],
   "source": [
    "%%time\n",
    "\n",
    "gcn = GCN(dataset.num_features, 16, dataset.num_classes)\n",
    "print(gcn)\n",
    "train(gcn, data)\n",
    "acc = test(gcn, data)\n",
    "print(f'\\nGCN test accuracy: {acc*100:.2f}%\\n')"
   ]
  },
  {
   "cell_type": "code",
   "execution_count": null,
   "id": "db30b11d",
   "metadata": {},
   "outputs": [],
   "source": [
    "%%time\n",
    "\n",
    "gat = GAT(dataset.num_features, 8, dataset.num_classes)\n",
    "print(gat)\n",
    "train(gat, data)\n",
    "acc = test(gat, data)\n",
    "print(f'\\nGAT test accuracy: {acc*100:.2f}%\\n')"
   ]
  },
  {
   "cell_type": "code",
   "execution_count": null,
   "id": "ac670a5e",
   "metadata": {},
   "outputs": [],
   "source": [
    "untrained_gat = GAT(dataset.num_features, 8, dataset.num_classes)\n",
    "\n",
    "# Get embeddings\n",
    "h, _ = untrained_gat(data.x, data.edge_index)\n",
    "\n",
    "\n",
    "tsne = TSNE(n_components=2, learning_rate='auto',\n",
    "         init='pca').fit_transform(h.detach())\n",
    "\n",
    "plt.figure(figsize=(10, 10))\n",
    "plt.axis('off')\n",
    "plt.scatter(tsne[:, 0], tsne[:, 1], s=50, c=data.y)\n",
    "plt.show()"
   ]
  },
  {
   "cell_type": "code",
   "execution_count": null,
   "id": "1b449306",
   "metadata": {},
   "outputs": [],
   "source": [
    "h, _ = gat(data.x, data.edge_index)\n",
    "\n",
    "# Train TSNE\n",
    "tsne = TSNE(n_components=2, learning_rate='auto',\n",
    "         init='pca').fit_transform(h.detach())\n",
    "\n",
    "\n",
    "plt.figure(figsize=(10, 10))\n",
    "plt.axis('off')\n",
    "plt.scatter(tsne[:, 0], tsne[:, 1], s=50, c=data.y)\n",
    "plt.show()"
   ]
  },
  {
   "cell_type": "code",
   "execution_count": null,
   "id": "6826406f",
   "metadata": {},
   "outputs": [],
   "source": [
    "# Get model's classifications\n",
    "_, out = gat(data.x, data.edge_index)\n",
    "degrees = degree(data.edge_index[0]).numpy()\n",
    "\n",
    "# Store accuracy scores and sample sizes\n",
    "accuracies = []\n",
    "sizes = []\n",
    "\n",
    "# Accuracy for degrees between 0 and 5\n",
    "for i in range(0, 6):\n",
    "    mask = np.where(degrees == i)[0]\n",
    "    accuracies.append(accuracy(out.argmax(dim=1)[mask], data.y[mask]))\n",
    "    sizes.append(len(mask))\n",
    "\n",
    "# Accuracy for degrees > 5\n",
    "mask = np.where(degrees > 5)[0]\n",
    "accuracies.append(accuracy(out.argmax(dim=1)[mask], data.y[mask]))\n",
    "sizes.append(len(mask))\n",
    "\n",
    "fig, ax = plt.subplots(figsize=(18, 9))\n",
    "ax.set_xlabel('Node degree')\n",
    "ax.set_ylabel('Accuracy score')\n",
    "plt.bar(['0','1','2','3','4','5','>5'],\n",
    "    accuracies,\n",
    "    color='#0A047A')\n",
    "for i in range(0, 7):\n",
    "    plt.text(i, accuracies[i], f'{accuracies[i]*100:.2f}%',\n",
    "             ha='center', color='#0A047A')\n",
    "for i in range(0, 7):\n",
    "    plt.text(i, accuracies[i]//2, sizes[i],\n",
    "             ha='center', color='white')"
   ]
  },
  {
   "cell_type": "markdown",
   "id": "5a870ba0",
   "metadata": {},
   "source": [
    "# GraphSage"
   ]
  },
  {
   "cell_type": "markdown",
   "id": "3efd429a",
   "metadata": {},
   "source": [
    "https://cs.stanford.edu/people/jure/pubs/graphsage-nips17.pdf\n"
   ]
  },
  {
   "cell_type": "markdown",
   "id": "6bac7e02",
   "metadata": {},
   "source": [
    "GraphSAGE представляет собой модель индуктивного обучения. \n",
    "\n",
    "Ключевая идея - давайте учить не эмбеддинги вершин, а функции для получения эмбеддингов.\n",
    "\n",
    "<img src='../images/graphsage.png' width=700>\n",
    "\n",
    "Агггации из статьи: mean, pooling, LSTM. \n",
    "\n",
    "**Функция потерь** (см. статью). Она побуждает близлежащие узлы иметь схожие эмбеддинги, а удаленные - различающиеся."
   ]
  },
  {
   "cell_type": "markdown",
   "id": "7a530be0",
   "metadata": {},
   "source": [
    "## PinSage - адаптация уже для RecSys задачи. \n",
    "\n",
    "https://arxiv.org/pdf/1806.01973.pdf"
   ]
  },
  {
   "cell_type": "markdown",
   "id": "0b7547f9",
   "metadata": {},
   "source": [
    "- On-fly convolutions\n",
    "- Convolutions via random walks\n",
    "- Importance Pooling\n",
    "- Curriculum training"
   ]
  },
  {
   "cell_type": "markdown",
   "id": "bfdbc39d",
   "metadata": {},
   "source": [
    "## KGAT\n",
    "https://arxiv.org/pdf/1905.07854.pdf"
   ]
  },
  {
   "cell_type": "code",
   "execution_count": null,
   "id": "edb14816",
   "metadata": {},
   "outputs": [],
   "source": []
  },
  {
   "cell_type": "code",
   "execution_count": null,
   "id": "60f0baed",
   "metadata": {},
   "outputs": [],
   "source": []
  }
 ],
 "metadata": {
  "kernelspec": {
   "display_name": "Python 3",
   "language": "python",
   "name": "python3"
  },
  "language_info": {
   "codemirror_mode": {
    "name": "ipython",
    "version": 3
   },
   "file_extension": ".py",
   "mimetype": "text/x-python",
   "name": "python",
   "nbconvert_exporter": "python",
   "pygments_lexer": "ipython3",
   "version": "3.8.0"
  }
 },
 "nbformat": 4,
 "nbformat_minor": 5
}
